{
 "cells": [
  {
   "cell_type": "code",
   "execution_count": null,
   "metadata": {},
   "outputs": [],
   "source": [
    "import pandas as pd\n",
    "import numpy as np\n",
    "import spacy\n",
    "import en_core_web_sm\n",
    "import nltk\n",
    "import docx\n",
    "import re\n",
    "from tika import parser\n",
    "import continuous_threading as thread\n",
    "from stop_words import get_stop_words\n",
    "from sklearn.metrics.pairwise import cosine_similarity\n",
    "import networkx as nx\n",
    "nltk.download('punkt')\n",
    "nlp = spacy.load(\"en_core_web_sm\")"
   ]
  },
  {
   "cell_type": "code",
   "execution_count": null,
   "metadata": {},
   "outputs": [],
   "source": [
    "def getText(filename):\n",
    "    if filename[len(filename)-3:] == \"pdf\":\n",
    "        raw = parser.from_file(filename)\n",
    "        return raw['content']\n",
    "    else:\n",
    "        doc = docx.Document(filename)\n",
    "        fullText = []\n",
    "        for para in doc.paragraphs:\n",
    "            fullText.append(para.text)\n",
    "    return '\\n'.join(fullText)"
   ]
  },
  {
   "cell_type": "code",
   "execution_count": null,
   "metadata": {},
   "outputs": [],
   "source": [
    "path_to_file = \"n_thakur_petition.docx\"\n",
    "raw_text = getText(path_to_file)\n",
    "raw_text = re.sub(r\"\\n\", \" \", raw_text)\n",
    "paras = [i.replace('\\t',' ') for i in raw_text.split('\\n') if i!='']\n",
    "\n",
    "inp_to_spacy = \" \".join(paras) # create string from paras list\n",
    "doc = nlp(inp_to_spacy) # a spacy doc object it has everything\n",
    "\n",
    "# getting sentences out of doc\n",
    "sentences = [sentence for idno, sentence in enumerate(doc.sents)]\n",
    "sentences = [re.sub(\"…\", \"\", str(sentence)) for sentence in sentences]\n",
    "sentences = [re.sub(\"[.][.]+\", \"\", str(sentence)) for sentence in sentences]\n",
    "\n",
    "# again we input the data in spacy\n",
    "input_to_spacy = \" \".join(sentences)\n",
    "doc = nlp(input_to_spacy)\n",
    "\n",
    "tokens = [token for token in doc if not nlp.vocab[str(token)].is_stop]\n",
    "\n",
    "# still it contains tokens\n",
    "stop_words = get_stop_words('en')\n",
    "tokens = [token for token in doc if str(token) not in stop_words]\n",
    "\n",
    "word_embeddings = {}\n",
    "\n",
    "# Glove files can be downloaded from the link given below.\n",
    "# https://drive.google.com/open?id=12v__AwX9CjQhXkIsghDCVEjUNklj_7j1\n",
    "\n",
    "dimension_of_embedding = 100\n",
    "Glove = 'Gloves/' + str(dimension_of_embedding) + '.txt'\n",
    "f = open(Glove, encoding = 'utf-8')\n",
    "for line in f:\n",
    "    values = line.split()\n",
    "    word = values[0]\n",
    "    coefs = np.asarray(values[1:], dtype = 'float32')\n",
    "    word_embeddings[word] = coefs\n",
    "f.close()"
   ]
  },
  {
   "cell_type": "code",
   "execution_count": null,
   "metadata": {},
   "outputs": [],
   "source": [
    "# create sentence vectors\n",
    "sentence_vectors = []\n",
    "for i in sentences:\n",
    "    a = 0\n",
    "    if len(i) != 0:\n",
    "        length = len(i.split())\n",
    "        v = sum([word_embeddings.get(i[a], np.zeros((100,)) ) for a in range(length)]) / (length+0.001)\n",
    "    else:\n",
    "        v = np.zeros((100,))\n",
    "    sentence_vectors.append(v)"
   ]
  },
  {
   "cell_type": "code",
   "execution_count": null,
   "metadata": {},
   "outputs": [],
   "source": [
    "def Similarity(i, j):\n",
    "    sim_mat[i][j] = cosine_similarity(sentence_vectors[i].reshape(1,100), sentence_vectors[j].reshape(1,100))[0,0]"
   ]
  },
  {
   "cell_type": "code",
   "execution_count": null,
   "metadata": {},
   "outputs": [],
   "source": [
    "# similarity matrix\n",
    "sim_mat = np.zeros([len(sentences), len(sentences)])\n",
    "import time\n",
    "th1 = thread.OperationThread(target=Similarity)\n",
    "th2 = thread.OperationThread(target=Similarity)\n",
    "th3 = thread.OperationThread(target=Similarity)\n",
    "th4 = thread.OperationThread(target=Similarity)\n",
    "t1 = time.time()\n",
    "loop = len(sentences)\n",
    "i = j = 0\n",
    "\n",
    "while i < loop:\n",
    "#     print(i)\n",
    "    while j < loop:\n",
    "        if j < loop and i != j:\n",
    "            th1.add_data(i, j)\n",
    "        \n",
    "        if j+1 < loop and i != j+1:\n",
    "            th2.add_data(i, j+1)\n",
    "        \n",
    "        if j+2 < loop and i != j+2:\n",
    "            th1.add_data(i, j+2)\n",
    "        \n",
    "        if j+3 < loop and i != j+3:\n",
    "            th1.add_data(i, j+3)\n",
    "        j = j + 4\n",
    "    i = i + 1\n",
    "    j = 0\n",
    "\n",
    "th1.stop()\n",
    "th2.stop()\n",
    "th3.stop()\n",
    "th4.stop()\n",
    "print(time.time() - t1)"
   ]
  },
  {
   "cell_type": "markdown",
   "metadata": {},
   "source": [
    "# Restart Script From here"
   ]
  },
  {
   "cell_type": "code",
   "execution_count": null,
   "metadata": {},
   "outputs": [],
   "source": [
    "nx_graph = nx.from_numpy_matrix(sim_mat)\n",
    "scores = nx.pagerank(nx_graph)\n",
    "ranked_sentences = sorted(((scores[i], s, i) for i, s in enumerate(sentences)), reverse=True)"
   ]
  },
  {
   "cell_type": "code",
   "execution_count": null,
   "metadata": {},
   "outputs": [],
   "source": [
    "summary = []\n",
    "i = 0\n",
    "# Taking top 10% sentences with highest importance\n",
    "Length = int(len(ranked_sentences)/5)\n",
    "Threshold = ranked_sentences[0][0]/1000\n",
    "\n",
    "while i < max(Length, 10):\n",
    "    # Checking that ith sentence is 0.1% important as compared to 1st sentence \n",
    "    if(Threshold > ranked_sentences[i][0]):\n",
    "        break    \n",
    "    if(ranked_sentences[i][0] <= 0):\n",
    "        break\n",
    "    \n",
    "    summary.append([ranked_sentences[i][2], ranked_sentences[i][1]])\n",
    "    i += 1\n",
    "    if(i >= len(ranked_sentences)):\n",
    "        break"
   ]
  },
  {
   "cell_type": "code",
   "execution_count": null,
   "metadata": {},
   "outputs": [],
   "source": [
    "sorted_summary = sorted(summary)\n",
    "sorted_summary_final = []"
   ]
  },
  {
   "cell_type": "code",
   "execution_count": null,
   "metadata": {},
   "outputs": [],
   "source": [
    "for ind, sent in sorted_summary:\n",
    "    if(sent.lower() not in sorted_summary_final):\n",
    "        sorted_summary_final.append(sent)        "
   ]
  },
  {
   "cell_type": "code",
   "execution_count": null,
   "metadata": {},
   "outputs": [],
   "source": [
    "d = docx.Document()\n",
    "d.add_heading('Summary', 0)\n",
    "\n",
    "for i in sorted_summary_final:\n",
    "    d.add_paragraph(i, style = 'List Bullet')\n",
    "\n",
    "d.save('Summary.docx')"
   ]
  },
  {
   "cell_type": "code",
   "execution_count": null,
   "metadata": {},
   "outputs": [],
   "source": [
    "sorted_summary_final"
   ]
  }
 ],
 "metadata": {
  "kernelspec": {
   "display_name": "Python 3",
   "language": "python",
   "name": "python3"
  },
  "language_info": {
   "codemirror_mode": {
    "name": "ipython",
    "version": 3
   },
   "file_extension": ".py",
   "mimetype": "text/x-python",
   "name": "python",
   "nbconvert_exporter": "python",
   "pygments_lexer": "ipython3",
   "version": "3.6.8"
  }
 },
 "nbformat": 4,
 "nbformat_minor": 2
}
